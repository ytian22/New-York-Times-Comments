{
 "cells": [
  {
   "cell_type": "code",
   "execution_count": 60,
   "metadata": {},
   "outputs": [],
   "source": [
    "'''\n",
    "Author: Yu Tian\n",
    "\n",
    "The purpose of this project is to utilize NLP techniques to predict the selection of \n",
    "comments on New York Times articles as editior's picks. \n",
    "'''\n",
    "\n",
    "import numpy as np\n",
    "import pandas as pd\n",
    "import gc\n",
    "from time import time\n",
    "import matplotlib.pyplot as plt\n",
    "%matplotlib inline\n",
    "\n",
    "from sklearn.feature_extraction.text import TfidfVectorizer\n",
    "from sklearn.linear_model import LogisticRegression\n",
    "from sklearn.decomposition import TruncatedSVD\n",
    "from sklearn.pipeline import Pipeline, FeatureUnion\n",
    "from sklearn.base import BaseEstimator, TransformerMixin\n",
    "from sklearn.model_selection import GroupKFold, GridSearchCV\n",
    "from sklearn.metrics import (roc_auc_score, classification_report, log_loss, make_scorer, \n",
    "                             recall_score, precision_recall_curve, roc_curve)"
   ]
  },
  {
   "cell_type": "markdown",
   "metadata": {},
   "source": [
    "# 0. Load Data"
   ]
  },
  {
   "cell_type": "code",
   "execution_count": 59,
   "metadata": {},
   "outputs": [
    {
     "name": "stderr",
     "output_type": "stream",
     "text": [
      "/Users/ty/anaconda/envs/nlp/lib/python3.6/site-packages/IPython/core/interactiveshell.py:2785: DtypeWarning: Columns (14,15,31,32) have mixed types. Specify dtype option on import or set low_memory=False.\n",
      "  interactivity=interactivity, compiler=compiler, result=result)\n",
      "/Users/ty/anaconda/envs/nlp/lib/python3.6/site-packages/IPython/core/interactiveshell.py:2785: DtypeWarning: Columns (32,33) have mixed types. Specify dtype option on import or set low_memory=False.\n",
      "  interactivity=interactivity, compiler=compiler, result=result)\n",
      "/Users/ty/anaconda/envs/nlp/lib/python3.6/site-packages/IPython/core/interactiveshell.py:2785: DtypeWarning: Columns (25,26) have mixed types. Specify dtype option on import or set low_memory=False.\n",
      "  interactivity=interactivity, compiler=compiler, result=result)\n",
      "/Users/ty/anaconda/envs/nlp/lib/python3.6/site-packages/IPython/core/interactiveshell.py:2785: DtypeWarning: Columns (32) have mixed types. Specify dtype option on import or set low_memory=False.\n",
      "  interactivity=interactivity, compiler=compiler, result=result)\n",
      "/Users/ty/anaconda/envs/nlp/lib/python3.6/site-packages/IPython/core/interactiveshell.py:2785: DtypeWarning: Columns (14,15,31) have mixed types. Specify dtype option on import or set low_memory=False.\n",
      "  interactivity=interactivity, compiler=compiler, result=result)\n",
      "/Users/ty/anaconda/envs/nlp/lib/python3.6/site-packages/ipykernel_launcher.py:10: FutureWarning: Sorting because non-concatenation axis is not aligned. A future version\n",
      "of pandas will change to not sort by default.\n",
      "\n",
      "To accept the future behavior, pass 'sort=True'.\n",
      "\n",
      "To retain the current behavior and silence the warning, pass sort=False\n",
      "\n",
      "  # Remove the CWD from sys.path while we load stuff.\n"
     ]
    }
   ],
   "source": [
    "data1 = pd.read_csv('./Data/CommentsJan2017.csv')\n",
    "data2 = pd.read_csv('./Data/CommentsFeb2017.csv')\n",
    "data3 = pd.read_csv('./Data/CommentsMarch2017.csv')\n",
    "data4 = pd.read_csv('./Data/CommentsApril2017.csv')\n",
    "data5 = pd.read_csv('./Data/CommentsMay2017.csv')\n",
    "data6 = pd.read_csv('./Data/CommentsJan2018.csv')\n",
    "data7 = pd.read_csv('./Data/CommentsFeb2018.csv')\n",
    "data8 = pd.read_csv('./Data/CommentsMarch2018.csv')\n",
    "data9 = pd.read_csv('./Data/CommentsApril2018.csv')\n",
    "\n",
    "# concatenate the comments that are from different months in 2018\n",
    "data = pd.concat([data1, data2, data3, data4, data5, data6, data7, data8, data9])\n",
    "data.drop_duplicates(subset='commentID', inplace=True)\n",
    "data.reset_index(drop=True, inplace=True)"
   ]
  },
  {
   "cell_type": "markdown",
   "metadata": {},
   "source": [
    "Take a look at the shape of data"
   ]
  },
  {
   "cell_type": "code",
   "execution_count": 61,
   "metadata": {},
   "outputs": [
    {
     "data": {
      "text/plain": [
       "(2118617, 34)"
      ]
     },
     "execution_count": 61,
     "metadata": {},
     "output_type": "execute_result"
    }
   ],
   "source": [
    "data.shape"
   ]
  },
  {
   "cell_type": "markdown",
   "metadata": {},
   "source": [
    "Look at the features"
   ]
  },
  {
   "cell_type": "code",
   "execution_count": 62,
   "metadata": {},
   "outputs": [
    {
     "data": {
      "text/plain": [
       "Index(['approveDate', 'articleID', 'articleWordCount', 'commentBody',\n",
       "       'commentID', 'commentSequence', 'commentTitle', 'commentType',\n",
       "       'createDate', 'depth', 'editorsSelection', 'inReplyTo', 'newDesk',\n",
       "       'parentID', 'parentUserDisplayName', 'permID', 'picURL', 'printPage',\n",
       "       'recommendations', 'recommendedFlag', 'replyCount', 'reportAbuseFlag',\n",
       "       'sectionName', 'sharing', 'status', 'timespeople', 'trusted',\n",
       "       'typeOfMaterial', 'updateDate', 'userDisplayName', 'userID',\n",
       "       'userLocation', 'userTitle', 'userURL'],\n",
       "      dtype='object')"
      ]
     },
     "execution_count": 62,
     "metadata": {},
     "output_type": "execute_result"
    }
   ],
   "source": [
    "data.columns"
   ]
  },
  {
   "cell_type": "code",
   "execution_count": 63,
   "metadata": {},
   "outputs": [
    {
     "data": {
      "text/html": [
       "<div>\n",
       "<style scoped>\n",
       "    .dataframe tbody tr th:only-of-type {\n",
       "        vertical-align: middle;\n",
       "    }\n",
       "\n",
       "    .dataframe tbody tr th {\n",
       "        vertical-align: top;\n",
       "    }\n",
       "\n",
       "    .dataframe thead th {\n",
       "        text-align: right;\n",
       "    }\n",
       "</style>\n",
       "<table border=\"1\" class=\"dataframe\">\n",
       "  <thead>\n",
       "    <tr style=\"text-align: right;\">\n",
       "      <th></th>\n",
       "      <th>approveDate</th>\n",
       "      <th>articleID</th>\n",
       "      <th>articleWordCount</th>\n",
       "      <th>commentBody</th>\n",
       "      <th>commentID</th>\n",
       "      <th>commentSequence</th>\n",
       "      <th>commentTitle</th>\n",
       "      <th>commentType</th>\n",
       "      <th>createDate</th>\n",
       "      <th>depth</th>\n",
       "      <th>...</th>\n",
       "      <th>status</th>\n",
       "      <th>timespeople</th>\n",
       "      <th>trusted</th>\n",
       "      <th>typeOfMaterial</th>\n",
       "      <th>updateDate</th>\n",
       "      <th>userDisplayName</th>\n",
       "      <th>userID</th>\n",
       "      <th>userLocation</th>\n",
       "      <th>userTitle</th>\n",
       "      <th>userURL</th>\n",
       "    </tr>\n",
       "  </thead>\n",
       "  <tbody>\n",
       "    <tr>\n",
       "      <th>0</th>\n",
       "      <td>1483455908</td>\n",
       "      <td>58691a5795d0e039260788b9</td>\n",
       "      <td>1324.0</td>\n",
       "      <td>For all you Americans out there --- still rejo...</td>\n",
       "      <td>20969730.0</td>\n",
       "      <td>20969730.0</td>\n",
       "      <td>&lt;br/&gt;</td>\n",
       "      <td>comment</td>\n",
       "      <td>1.483426e+09</td>\n",
       "      <td>1.0</td>\n",
       "      <td>...</td>\n",
       "      <td>approved</td>\n",
       "      <td>1.0</td>\n",
       "      <td>0.0</td>\n",
       "      <td>News</td>\n",
       "      <td>1483455908</td>\n",
       "      <td>N. Smith</td>\n",
       "      <td>64679318.0</td>\n",
       "      <td>New York City</td>\n",
       "      <td>NaN</td>\n",
       "      <td>NaN</td>\n",
       "    </tr>\n",
       "    <tr>\n",
       "      <th>1</th>\n",
       "      <td>1483455656</td>\n",
       "      <td>58691a5795d0e039260788b9</td>\n",
       "      <td>1324.0</td>\n",
       "      <td>Obamas policies may prove to be the least of t...</td>\n",
       "      <td>20969325.0</td>\n",
       "      <td>20969325.0</td>\n",
       "      <td>&lt;br/&gt;</td>\n",
       "      <td>comment</td>\n",
       "      <td>1.483417e+09</td>\n",
       "      <td>1.0</td>\n",
       "      <td>...</td>\n",
       "      <td>approved</td>\n",
       "      <td>1.0</td>\n",
       "      <td>0.0</td>\n",
       "      <td>News</td>\n",
       "      <td>1483455656</td>\n",
       "      <td>Kilocharlie</td>\n",
       "      <td>69254188.0</td>\n",
       "      <td>Phoenix</td>\n",
       "      <td>NaN</td>\n",
       "      <td>NaN</td>\n",
       "    </tr>\n",
       "    <tr>\n",
       "      <th>2</th>\n",
       "      <td>1483455655</td>\n",
       "      <td>58691a5795d0e039260788b9</td>\n",
       "      <td>1324.0</td>\n",
       "      <td>Democrats are comprised of malcontents who gen...</td>\n",
       "      <td>20969855.0</td>\n",
       "      <td>20969855.0</td>\n",
       "      <td>&lt;br/&gt;</td>\n",
       "      <td>comment</td>\n",
       "      <td>1.483431e+09</td>\n",
       "      <td>1.0</td>\n",
       "      <td>...</td>\n",
       "      <td>approved</td>\n",
       "      <td>1.0</td>\n",
       "      <td>0.0</td>\n",
       "      <td>News</td>\n",
       "      <td>1483455655</td>\n",
       "      <td>Frank Fryer</td>\n",
       "      <td>76788711.0</td>\n",
       "      <td>Florida</td>\n",
       "      <td>NaN</td>\n",
       "      <td>NaN</td>\n",
       "    </tr>\n",
       "    <tr>\n",
       "      <th>3</th>\n",
       "      <td>1483455653</td>\n",
       "      <td>58691a5795d0e039260788b9</td>\n",
       "      <td>1324.0</td>\n",
       "      <td>The picture in this article is the face of con...</td>\n",
       "      <td>20969407.0</td>\n",
       "      <td>20969407.0</td>\n",
       "      <td>&lt;br/&gt;</td>\n",
       "      <td>comment</td>\n",
       "      <td>1.483419e+09</td>\n",
       "      <td>1.0</td>\n",
       "      <td>...</td>\n",
       "      <td>approved</td>\n",
       "      <td>1.0</td>\n",
       "      <td>0.0</td>\n",
       "      <td>News</td>\n",
       "      <td>1483455653</td>\n",
       "      <td>James Young</td>\n",
       "      <td>72718862.0</td>\n",
       "      <td>Seattle</td>\n",
       "      <td>NaN</td>\n",
       "      <td>NaN</td>\n",
       "    </tr>\n",
       "    <tr>\n",
       "      <th>4</th>\n",
       "      <td>1483455216</td>\n",
       "      <td>58691a5795d0e039260788b9</td>\n",
       "      <td>1324.0</td>\n",
       "      <td>Elections have consequences.</td>\n",
       "      <td>20969274.0</td>\n",
       "      <td>20969274.0</td>\n",
       "      <td>NaN</td>\n",
       "      <td>comment</td>\n",
       "      <td>1.483417e+09</td>\n",
       "      <td>1.0</td>\n",
       "      <td>...</td>\n",
       "      <td>approved</td>\n",
       "      <td>1.0</td>\n",
       "      <td>0.0</td>\n",
       "      <td>News</td>\n",
       "      <td>1483455216</td>\n",
       "      <td>M.</td>\n",
       "      <td>7529267.0</td>\n",
       "      <td>Seattle</td>\n",
       "      <td>NaN</td>\n",
       "      <td>NaN</td>\n",
       "    </tr>\n",
       "  </tbody>\n",
       "</table>\n",
       "<p>5 rows × 34 columns</p>\n",
       "</div>"
      ],
      "text/plain": [
       "   approveDate                 articleID  articleWordCount  \\\n",
       "0   1483455908  58691a5795d0e039260788b9            1324.0   \n",
       "1   1483455656  58691a5795d0e039260788b9            1324.0   \n",
       "2   1483455655  58691a5795d0e039260788b9            1324.0   \n",
       "3   1483455653  58691a5795d0e039260788b9            1324.0   \n",
       "4   1483455216  58691a5795d0e039260788b9            1324.0   \n",
       "\n",
       "                                         commentBody   commentID  \\\n",
       "0  For all you Americans out there --- still rejo...  20969730.0   \n",
       "1  Obamas policies may prove to be the least of t...  20969325.0   \n",
       "2  Democrats are comprised of malcontents who gen...  20969855.0   \n",
       "3  The picture in this article is the face of con...  20969407.0   \n",
       "4                       Elections have consequences.  20969274.0   \n",
       "\n",
       "   commentSequence commentTitle commentType    createDate  depth   ...     \\\n",
       "0       20969730.0        <br/>     comment  1.483426e+09    1.0   ...      \n",
       "1       20969325.0        <br/>     comment  1.483417e+09    1.0   ...      \n",
       "2       20969855.0        <br/>     comment  1.483431e+09    1.0   ...      \n",
       "3       20969407.0        <br/>     comment  1.483419e+09    1.0   ...      \n",
       "4       20969274.0          NaN     comment  1.483417e+09    1.0   ...      \n",
       "\n",
       "     status  timespeople trusted  typeOfMaterial  updateDate userDisplayName  \\\n",
       "0  approved          1.0     0.0            News  1483455908        N. Smith   \n",
       "1  approved          1.0     0.0            News  1483455656     Kilocharlie   \n",
       "2  approved          1.0     0.0            News  1483455655     Frank Fryer   \n",
       "3  approved          1.0     0.0            News  1483455653     James Young   \n",
       "4  approved          1.0     0.0            News  1483455216              M.   \n",
       "\n",
       "       userID   userLocation  userTitle  userURL  \n",
       "0  64679318.0  New York City        NaN      NaN  \n",
       "1  69254188.0        Phoenix        NaN      NaN  \n",
       "2  76788711.0        Florida        NaN      NaN  \n",
       "3  72718862.0        Seattle        NaN      NaN  \n",
       "4   7529267.0        Seattle        NaN      NaN  \n",
       "\n",
       "[5 rows x 34 columns]"
      ]
     },
     "execution_count": 63,
     "metadata": {},
     "output_type": "execute_result"
    }
   ],
   "source": [
    "data.head()"
   ]
  },
  {
   "cell_type": "markdown",
   "metadata": {},
   "source": [
    "The feature 'commentBody' contains the text of comments and will be used later"
   ]
  },
  {
   "cell_type": "markdown",
   "metadata": {},
   "source": [
    "# 1. Processing"
   ]
  },
  {
   "cell_type": "markdown",
   "metadata": {},
   "source": [
    "### 1.0 Check balance"
   ]
  },
  {
   "cell_type": "markdown",
   "metadata": {},
   "source": [
    "First take a look at the distribution of classes:"
   ]
  },
  {
   "cell_type": "code",
   "execution_count": 25,
   "metadata": {},
   "outputs": [
    {
     "data": {
      "text/plain": [
       "0    2078255\n",
       "1      40362\n",
       "Name: editorsSelection, dtype: int64"
      ]
     },
     "execution_count": 25,
     "metadata": {},
     "output_type": "execute_result"
    }
   ],
   "source": [
    "data.editorsSelection.value_counts()"
   ]
  },
  {
   "cell_type": "code",
   "execution_count": 24,
   "metadata": {},
   "outputs": [
    {
     "data": {
      "image/png": "[encoded data removed]",
      "text/plain": [
       "<Figure size 432x288 with 1 Axes>"
      ]
     },
     "metadata": {},
     "output_type": "display_data"
    }
   ],
   "source": [
    "plt.bar(data.editorsSelection.value_counts().keys().tolist(),\n",
    "        data.editorsSelection.value_counts().values.tolist())\n",
    "plt.show()"
   ]
  },
  {
   "cell_type": "markdown",
   "metadata": {},
   "source": [
    "The data is very unbalanced. To deal with that situlation, undersampling the data that have majority samples. Select all positive data (comments that indeed were editor's pick), and set the number of negative data (not editor's pick) to be around 3 folds."
   ]
  },
  {
   "cell_type": "code",
   "execution_count": 64,
   "metadata": {},
   "outputs": [],
   "source": [
    "def balancing(data):\n",
    "    pos = data.loc[data.editorsSelection == True]\n",
    "    n = round(pos.shape[0]*3)\n",
    "    if n:        \n",
    "        try:\n",
    "            neg = data.loc[data.editorsSelection == False].sample(n)\n",
    "        except: \n",
    "            neg = data.loc[data.editorsSelection == False]\n",
    "        res = pd.concat([pos, neg])\n",
    "        return res\n",
    "    else:\n",
    "        return None "
   ]
  },
  {
   "cell_type": "code",
   "execution_count": 65,
   "metadata": {},
   "outputs": [],
   "source": [
    "new = data.groupby('articleID').apply(balancing).reset_index(drop=True)"
   ]
  },
  {
   "cell_type": "markdown",
   "metadata": {},
   "source": [
    "Take a look at the new distribution:"
   ]
  },
  {
   "cell_type": "code",
   "execution_count": 77,
   "metadata": {},
   "outputs": [
    {
     "data": {
      "text/plain": [
       "0    121021\n",
       "1     40362\n",
       "Name: editorsSelection, dtype: int64"
      ]
     },
     "execution_count": 77,
     "metadata": {},
     "output_type": "execute_result"
    }
   ],
   "source": [
    "new.editorsSelection.value_counts()"
   ]
  },
  {
   "cell_type": "code",
   "execution_count": 66,
   "metadata": {},
   "outputs": [
    {
     "data": {
      "image/png": "[encoded data removed]",
      "text/plain": [
       "<Figure size 432x288 with 1 Axes>"
      ]
     },
     "metadata": {},
     "output_type": "display_data"
    }
   ],
   "source": [
    "plt.bar(new.editorsSelection.value_counts().keys().tolist(),\n",
    "        new.editorsSelection.value_counts().values.tolist())\n",
    "plt.show()"
   ]
  },
  {
   "cell_type": "markdown",
   "metadata": {},
   "source": [
    "# 2. Training"
   ]
  },
  {
   "cell_type": "markdown",
   "metadata": {},
   "source": [
    "Using commentBody as X and editiorsSelection as Y. Use the article ID to track data and split: "
   ]
  },
  {
   "cell_type": "code",
   "execution_count": 67,
   "metadata": {},
   "outputs": [],
   "source": [
    "commentBody = new.commentBody\n",
    "nytpicks = new.editorsSelection\n",
    "articleID = new.articleID"
   ]
  },
  {
   "cell_type": "code",
   "execution_count": 69,
   "metadata": {},
   "outputs": [
    {
     "data": {
      "text/plain": [
       "(129107, 32276)"
      ]
     },
     "execution_count": 69,
     "metadata": {},
     "output_type": "execute_result"
    }
   ],
   "source": [
    "for train_index, test_index in GroupKFold(n_splits=5).split(commentBody, nytpicks, groups=articleID):\n",
    "    train_text, test_text = commentBody[train_index], commentBody[test_index] \n",
    "    train_target, test_target = nytpicks[train_index], nytpicks[test_index]\n",
    "    train_groups, test_groups = articleID[train_index], articleID[test_index]\n",
    "    \n",
    "train_text.shape[0], test_text.shape[0]"
   ]
  },
  {
   "cell_type": "markdown",
   "metadata": {},
   "source": [
    "Using TFIDF for words and character n-grams and combine them using FeatureUnion"
   ]
  },
  {
   "cell_type": "code",
   "execution_count": 70,
   "metadata": {},
   "outputs": [
    {
     "name": "stdout",
     "output_type": "stream",
     "text": [
      "Vectorization Runtime: 6.85 Minutes\n"
     ]
    }
   ],
   "source": [
    "vectorizer = FeatureUnion([\n",
    "    ('word_tfidf', TfidfVectorizer(\n",
    "    analyzer='word',\n",
    "    token_pattern=r'\\w{1,}',\n",
    "    ngram_range=(1, 2),\n",
    "    max_features=600,\n",
    "    )),\n",
    "    \n",
    "    ('char_tfidf', TfidfVectorizer(\n",
    "    analyzer='char',\n",
    "    ngram_range=(2, 4),\n",
    "    max_features=600,\n",
    "    ))\n",
    "])\n",
    "start_vect = time()\n",
    "vectorizer.fit(commentBody)\n",
    "train_text = vectorizer.transform(train_text)\n",
    "test_text = vectorizer.transform(test_text)\n",
    "\n",
    "print(\"Vectorization Runtime: %0.2f Minutes\"%((time() - start_vect)/60))"
   ]
  },
  {
   "cell_type": "markdown",
   "metadata": {},
   "source": [
    "Use Latent Semantic Analysis to perform dimensionality reduction on the tf-idf vectors and then train the Logistic regression to make predictions."
   ]
  },
  {
   "cell_type": "code",
   "execution_count": 71,
   "metadata": {},
   "outputs": [],
   "source": [
    "clf_logistic = Pipeline([\n",
    "    ('lsa', TruncatedSVD(n_components=1000, random_state=0)), \n",
    "    ('logistic', LogisticRegression(C=150))  \n",
    "])"
   ]
  },
  {
   "cell_type": "markdown",
   "metadata": {},
   "source": [
    "Tune hyper-parameters using grid search:"
   ]
  },
  {
   "cell_type": "code",
   "execution_count": 72,
   "metadata": {},
   "outputs": [],
   "source": [
    "param_grid = [\n",
    "    {'logistic__C': [150, 200]}\n",
    "]"
   ]
  },
  {
   "cell_type": "code",
   "execution_count": 73,
   "metadata": {},
   "outputs": [
    {
     "name": "stdout",
     "output_type": "stream",
     "text": [
      "Best parameters found:\n",
      "{'logistic__C': 200}\n",
      "\n",
      "Best score:\n",
      "0.14194786219966077\n",
      "\n",
      "             precision    recall  f1-score   support\n",
      "\n",
      "          0       0.77      0.96      0.85     24207\n",
      "          1       0.54      0.14      0.23      8069\n",
      "\n",
      "avg / total       0.71      0.76      0.70     32276\n",
      "\n",
      "ROC AUC Score:  0.7267\n",
      "logloss:  0.5013\n"
     ]
    }
   ],
   "source": [
    "gkf = GroupKFold(n_splits=3).split(train_text, train_target, groups=train_groups)\n",
    "scorer = make_scorer(recall_score)\n",
    "\n",
    "grid_search = GridSearchCV(clf_logistic, param_grid=param_grid, cv=gkf, scoring=scorer)\n",
    "grid_search.fit(train_text, train_target)\n",
    "\n",
    "print(\"Best parameters found:\")\n",
    "print(grid_search.best_params_)\n",
    "print(\"Best score:\")\n",
    "print(grid_search.best_score_)\n",
    "\n",
    "test_prediction = grid_search.predict(test_text)\n",
    "print(classification_report(test_target, test_prediction))\n",
    "\n",
    "test_prediction_proba = grid_search.predict_proba(test_text)[:, 1]\n",
    "score = roc_auc_score(test_target, test_prediction_proba)\n",
    "print(\"ROC AUC Score: \", round(score, 4)) \n",
    "\n",
    "score = log_loss(test_target, test_prediction_proba)\n",
    "print(\"logloss: \", round(score, 4))"
   ]
  },
  {
   "cell_type": "code",
   "execution_count": 74,
   "metadata": {},
   "outputs": [
    {
     "name": "stdout",
     "output_type": "stream",
     "text": [
      "Classification report:\n",
      "             precision    recall  f1-score   support\n",
      "\n",
      "          0       0.77      0.96      0.85     24207\n",
      "          1       0.54      0.14      0.23      8069\n",
      "\n",
      "avg / total       0.71      0.76      0.70     32276\n",
      "\n",
      "ROC AUC Score:  0.7267\n",
      "logloss:  0.5013\n"
     ]
    }
   ],
   "source": [
    "clf_logistic.fit(train_text, train_target)\n",
    "\n",
    "test_prediction = clf_logistic.predict(test_text)\n",
    "print(\"Classification report:\")\n",
    "print(classification_report(test_target, test_prediction))\n",
    "\n",
    "test_prediction_proba = clf_logistic.predict_proba(test_text)[:, 1]\n",
    "score = roc_auc_score(test_target, test_prediction_proba)\n",
    "print(\"ROC AUC Score: \", round(score, 4)) \n",
    "\n",
    "score = log_loss(test_target, test_prediction_proba)\n",
    "print(\"logloss: \", round(score, 4))"
   ]
  },
  {
   "cell_type": "code",
   "execution_count": 81,
   "metadata": {},
   "outputs": [],
   "source": [
    "p, r, _ = precision_recall_curve(test_target, test_prediction_proba)\n",
    "tpr, fpr, _ = roc_curve(test_target, test_prediction_proba)"
   ]
  },
  {
   "cell_type": "code",
   "execution_count": 86,
   "metadata": {},
   "outputs": [
    {
     "data": {
      "text/plain": [
       "[<matplotlib.lines.Line2D at 0x1aa21e1da0>]"
      ]
     },
     "execution_count": 86,
     "metadata": {},
     "output_type": "execute_result"
    },
    {
     "data": {
      "image/png": "[encoded data removed]",
      "text/plain": [
       "<Figure size 864x1728 with 1 Axes>"
      ]
     },
     "metadata": {},
     "output_type": "display_data"
    }
   ],
   "source": [
    "fig = plt.figure(figsize=(12,24))\n",
    "ax = fig.add_subplot(2,1,2)\n",
    "ax.set_xlim([-0.05,1.05])\n",
    "ax.set_ylim([-0.05,1.05])\n",
    "ax.set_xlabel('False Positive Rate')\n",
    "ax.set_ylabel('True Positive Rate')\n",
    "ax.set_title('ROC Curve')\n",
    "ax.plot(tpr, fpr, c='g', label=\"Logistic with LSA\")"
   ]
  },
  {
   "cell_type": "markdown",
   "metadata": {},
   "source": [
    "To improve, I might try word embedding with RNN in the future."
   ]
  },
  {
   "cell_type": "code",
   "execution_count": null,
   "metadata": {},
   "outputs": [],
   "source": []
  },
  {
   "cell_type": "code",
   "execution_count": null,
   "metadata": {},
   "outputs": [],
   "source": []
  },
  {
   "cell_type": "code",
   "execution_count": null,
   "metadata": {},
   "outputs": [],
   "source": []
  },
  {
   "cell_type": "code",
   "execution_count": null,
   "metadata": {},
   "outputs": [],
   "source": []
  },
  {
   "cell_type": "code",
   "execution_count": null,
   "metadata": {},
   "outputs": [],
   "source": []
  }
 ],
 "metadata": {
  "kernelspec": {
   "display_name": "Python 3",
   "language": "python",
   "name": "python3"
  },
  "language_info": {
   "codemirror_mode": {
    "name": "ipython",
    "version": 3
   },
   "file_extension": ".py",
   "mimetype": "text/x-python",
   "name": "python",
   "nbconvert_exporter": "python",
   "pygments_lexer": "ipython3",
   "version": "3.6.5"
  }
 },
 "nbformat": 4,
 "nbformat_minor": 2
}
